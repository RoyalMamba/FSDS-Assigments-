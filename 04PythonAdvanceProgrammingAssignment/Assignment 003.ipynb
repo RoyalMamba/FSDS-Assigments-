{
 "cells": [
  {
   "cell_type": "markdown",
   "metadata": {},
   "source": [
    "# Assignment 003"
   ]
  },
  {
   "cell_type": "code",
   "execution_count": 1,
   "metadata": {},
   "outputs": [
    {
     "name": "stdout",
     "output_type": "stream",
     "text": [
      "-1\n",
      "24\n",
      "0\n",
      "144\n",
      "1\n",
      "Your input is incorrect , please recity\n"
     ]
    }
   ],
   "source": [
    "# 1. Create a function to perform basic arithmetic operations that includes addition,\n",
    "#     subtraction, multiplication and division on a string number \n",
    "#     (e.g. \"12 + 24\" or \"23 - 21\" or \"12 // 12\" or \"12 * 21\").\n",
    "\n",
    "def arthsolver(expression):\n",
    "    num1 , sign , num2 = expression.split()\n",
    "    try:\n",
    "    \n",
    "        if int(num2) == 0 and (sign == '//' or sign == '/') :\n",
    "            return -1 \n",
    "        elif sign == '//':\n",
    "            return int(num1) // int(num2)\n",
    "        elif sign == '/':\n",
    "            return int(num1) / int(num2)\n",
    "        elif sign == '*':\n",
    "            return int(num1) * int(num2)\n",
    "        elif sign == '+':\n",
    "            return int(num1) + int(num2)\n",
    "        elif sign == '-':\n",
    "            return int(num1) - int(num2)\n",
    "        else :\n",
    "            return ValueError('Your input is incorrect , please recity')\n",
    "    except Exception as e :\n",
    "        return 'Your input is incorrect , please recity'\n",
    "\n",
    "    \n",
    "print(arthsolver('12 / 0'))\n",
    "print(arthsolver('12 + 12'))\n",
    "print(arthsolver('12 - 12'))\n",
    "print(arthsolver('12 * 12'))\n",
    "print(arthsolver('12 // 12'))\n",
    "print(arthsolver('12 a/ 12')) "
   ]
  },
  {
   "cell_type": "code",
   "execution_count": 2,
   "metadata": {},
   "outputs": [
    {
     "name": "stdout",
     "output_type": "stream",
     "text": [
      "47.08\n",
      "3.41\n",
      "68.28\n"
     ]
    }
   ],
   "source": [
    "# 2. Write a function that takes the coordinates of three points in the form of a 2d array and returns the perimeter \n",
    "#     of the triangle. The given points are the vertices of a triangle on a two-dimensional plane.\n",
    "\n",
    "def distance(a,b):\n",
    "    x1 = a[0]\n",
    "    y1 = a[1]\n",
    "    x2 = b[0]\n",
    "    y2 = b[1]\n",
    "    \n",
    "    dist = (x2 - x1)**2  + (y2 - y1)**2 \n",
    "#     print(dist)\n",
    "    dist = dist**0.5\n",
    "    return dist\n",
    "    \n",
    "    \n",
    "\n",
    "def tri_perimeter(yourlist):\n",
    "    A = yourlist[0]\n",
    "    B = yourlist[1]\n",
    "    C = yourlist[2]\n",
    "    AB = distance(A,B)\n",
    "    BC = distance(B,C)\n",
    "    AC = distance(A,C)\n",
    "    perimeter = AB + BC + AC\n",
    "    \n",
    "    return round(perimeter , 2)\n",
    "    \n",
    "print(tri_perimeter([ [15, 7], [5, 22], [11, 1] ]))\n",
    "print(tri_perimeter( [ [0, 0], [0, 1], [1, 0] ] ))\n",
    "print(tri_perimeter( [ [-10, -10], [10, 10 ], [-10, 10] ] ))"
   ]
  },
  {
   "cell_type": "code",
   "execution_count": 3,
   "metadata": {},
   "outputs": [
    {
     "name": "stdout",
     "output_type": "stream",
     "text": [
      "4\n",
      "3\n",
      "4\n",
      "2\n"
     ]
    }
   ],
   "source": [
    "# 3. A city skyline can be represented as a 2-D list with 1s representing\n",
    "# buildings. In the example below, the height of the tallest building is 4 (second-\n",
    "# most right column).\n",
    "\n",
    "\n",
    "def tallest_skyscraper(skyline):\n",
    "    building = list(zip(*skyline))\n",
    "    tallest_skyline = 0\n",
    "    for floor in building :\n",
    "        total = 0\n",
    "        for height in floor :\n",
    "            total += height\n",
    "        if total > tallest_skyline:\n",
    "            tallest_skyline = total \n",
    "    return tallest_skyline\n",
    "    \n",
    "    \n",
    "skyline1 = [[0, 0, 0, 0, 0, 0],       \n",
    "            [0, 0, 0, 0, 1, 0],\n",
    "            [0, 0, 1, 0, 1, 0],\n",
    "            [0, 1, 1, 1, 1, 0],\n",
    "            [1, 1, 1, 1, 1, 1]]\n",
    "\n",
    "skyline2 = [[0, 0, 0, 0],\n",
    "            [0, 1, 0, 0],\n",
    "            [0, 1, 1, 0],\n",
    "            [1, 1, 1, 1]]\n",
    " \n",
    "skyline3 = [[0, 1, 0, 0],\n",
    "            [0, 1, 0, 0],\n",
    "            [0, 1, 1, 0],\n",
    "            [1, 1, 1, 1]]\n",
    "            \n",
    "skyline4 = [[0, 0, 0, 0],\n",
    "            [0, 0, 0, 0],\n",
    "            [1, 1, 1, 0],\n",
    "            [1, 1, 1, 1]]\n",
    " \n",
    "\n",
    "print(tallest_skyscraper(skyline1))\n",
    "print(tallest_skyscraper(skyline2))\n",
    "print(tallest_skyscraper(skyline3))\n",
    "print(tallest_skyscraper(skyline4))"
   ]
  },
  {
   "cell_type": "code",
   "execution_count": 4,
   "metadata": {},
   "outputs": [
    {
     "name": "stdout",
     "output_type": "stream",
     "text": [
      "0\n",
      "1625\n",
      "8200\n",
      "14200\n"
     ]
    }
   ],
   "source": [
    "# 4. A financial institution provides professional services to banks and claims\n",
    "# charges from the customers based on the number of man-days provided.\n",
    "# Internally, it has set a scheme to motivate and reward staff to meet and\n",
    "# exceed targeted billable utilization and revenues by paying a bonus for each\n",
    "# day claimed from customers in excess of a threshold target.\n",
    "\n",
    "def BillableDays(extradays):        #This function will give us the list of total days worked as per different payslabs\n",
    "    BonusDays = []\n",
    "    for x in range(3):\n",
    "        if extradays > 0 :\n",
    "            \n",
    "            if extradays >= 8 :\n",
    "                BonusDays.append(8)\n",
    "            else :\n",
    "                BonusDays.append(extradays)                \n",
    "            extradays -= 8 \n",
    "            \n",
    "        else :\n",
    "            BonusDays.append(0)\n",
    "    \n",
    "    if extradays>0 :\n",
    "        BonusDays[-1] = extradays+8\n",
    "    \n",
    "    return BonusDays\n",
    "\n",
    "\n",
    "def bonusCal(days):\n",
    "    extradays = days - 32 \n",
    "    bonusAmount = [ 325 , 550 , 600]                           # Here we have created different slabs of bonuses\n",
    "    bonusdays = BillableDays(extradays)                        # This here will return list of days to be billed\n",
    "    totalbonus = [x*y for x,y in zip(bonusAmount ,bonusdays)]  # We zip and multiply bonusamount with extradays\n",
    "    totalbonus = sum( totalbonus )                             # Here we sum all the bonus for different slabs\n",
    "\n",
    "    return totalbonus  \n",
    "\n",
    "\n",
    "print(bonusCal(15))\n",
    "print(bonusCal(37))\n",
    "print(bonusCal(50))\n",
    "print(bonusCal(60))"
   ]
  },
  {
   "cell_type": "code",
   "execution_count": 5,
   "metadata": {},
   "outputs": [
    {
     "name": "stdout",
     "output_type": "stream",
     "text": [
      "False\n",
      "True\n",
      "False\n",
      "True\n",
      "False\n",
      "True\n"
     ]
    }
   ],
   "source": [
    "# 5. A number is said to be Disarium if the sum of its digits raised to their\n",
    "# respective positions is the number itself.\n",
    "\n",
    "def is_disarium(number):\n",
    "    try : \n",
    "        num_list = list(str(number))\n",
    "        disarium = []\n",
    "        power = 1\n",
    "        for x in num_list:\n",
    "            disarium.append(int(x)**power)\n",
    "            power += 1 \n",
    "            \n",
    "        if sum(disarium) == number:\n",
    "            return True \n",
    "        else :\n",
    "            return False\n",
    "\n",
    "    except Exception as e :\n",
    "        raise e('You have entered wrong input')\n",
    "    \n",
    "      \n",
    "print(is_disarium(75))\n",
    "print(is_disarium(135))\n",
    "print(is_disarium(534))\n",
    "print(is_disarium(518))\n",
    "print(is_disarium(466))\n",
    "print(is_disarium(8))"
   ]
  }
 ],
 "metadata": {
  "kernelspec": {
   "display_name": "Python 3",
   "language": "python",
   "name": "python3"
  },
  "language_info": {
   "codemirror_mode": {
    "name": "ipython",
    "version": 3
   },
   "file_extension": ".py",
   "mimetype": "text/x-python",
   "name": "python",
   "nbconvert_exporter": "python",
   "pygments_lexer": "ipython3",
   "version": "3.8.5"
  }
 },
 "nbformat": 4,
 "nbformat_minor": 4
}
