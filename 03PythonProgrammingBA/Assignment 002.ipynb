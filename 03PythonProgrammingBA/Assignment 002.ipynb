{
 "cells": [
  {
   "cell_type": "markdown",
   "metadata": {},
   "source": [
    "# Assignment 002\n"
   ]
  },
  {
   "cell_type": "code",
   "execution_count": null,
   "metadata": {},
   "outputs": [],
   "source": [
    "# 1.\tWrite a Python Program to Check if a Number is Positive, Negative or Zero?\n",
    "def posnegzero(number):\n",
    "    if number == 0 :\n",
    "        return 'zero'\n",
    "    elif number > 0 :\n",
    "        return 'positive'\n",
    "    else :\n",
    "        return 'negative'\n",
    "\n",
    "print(posnegzero(2))\n",
    "print(posnegzero(-1))\n",
    "print(posnegzero(0))"
   ]
  },
  {
   "cell_type": "code",
   "execution_count": null,
   "metadata": {},
   "outputs": [],
   "source": [
    "# 2.\tWrite a Python Program to Check if a Number is Odd or Even?\n",
    "def odd_even(number):\n",
    "    if  number % 2 == 0 :\n",
    "        return 'Even Number'\n",
    "    else :\n",
    "        return 'Odd Number'\n",
    "    \n",
    "print(odd_even(12))\n",
    "print(odd_even(13))\n"
   ]
  },
  {
   "cell_type": "code",
   "execution_count": null,
   "metadata": {},
   "outputs": [],
   "source": [
    "# 3.\tWrite a Python Program to Check Leap Year?\n",
    "def leapyear(year):\n",
    "    if year%4 == 0 :\n",
    "        return 'LeapYear'\n",
    "    else :\n",
    "        return 'Not a LeapYear'\n",
    "\n",
    "print(leapyear(2016))\n",
    "print(leapyear(2022))\n",
    "print(leapyear(2024))"
   ]
  },
  {
   "cell_type": "code",
   "execution_count": null,
   "metadata": {},
   "outputs": [],
   "source": [
    "# 4.\tWrite a Python Program to Check Prime Number?\n",
    "def primeNumber(number):\n",
    "    if number > 1:\n",
    "        for x in range(2 , int(number/2) + 1 ):\n",
    "            if number % x == 0 :\n",
    "                return 'It is NOT a PRIME number'\n",
    "                break\n",
    "        else :\n",
    "            return 'It is a PRIME Number'\n",
    "    else :\n",
    "        return 'It is Not a PRIME number'\n",
    "    \n",
    "print(primeNumber(29))\n",
    "print(primeNumber(11))\n",
    "print(primeNumber(12))"
   ]
  },
  {
   "cell_type": "code",
   "execution_count": null,
   "metadata": {},
   "outputs": [],
   "source": [
    "# 5.\tWrite a Python Program to Print all Prime Numbers in an Interval of 1-10000?\n",
    "def primeNumber(num):\n",
    "    mydict = {}\n",
    "    mydict.values\n",
    "    for number in range(1,num+1):\n",
    "        if number > 1:\n",
    "            for x in range(2 , int(number/2) + 1 ):\n",
    "                if number % x == 0 :\n",
    "                    mydict[number] =  'It is NOT a PRIME number'\n",
    "                    break\n",
    "            else :\n",
    "                mydict[number] = 'It is a PRIME Number'\n",
    "        else :\n",
    "            mydict[number] = 'It is Not a PRIME number'\n",
    "    return mydict.items()\n",
    "numlist = primeNumber(10000)\n",
    "for x in numlist:\n",
    "    print(x)"
   ]
  },
  {
   "cell_type": "code",
   "execution_count": null,
   "metadata": {},
   "outputs": [],
   "source": []
  }
 ],
 "metadata": {
  "kernelspec": {
   "display_name": "Python 3",
   "language": "python",
   "name": "python3"
  },
  "language_info": {
   "codemirror_mode": {
    "name": "ipython",
    "version": 3
   },
   "file_extension": ".py",
   "mimetype": "text/x-python",
   "name": "python",
   "nbconvert_exporter": "python",
   "pygments_lexer": "ipython3",
   "version": "3.8.5"
  }
 },
 "nbformat": 4,
 "nbformat_minor": 4
}
