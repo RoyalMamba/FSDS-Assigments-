{
 "cells": [
  {
   "cell_type": "markdown",
   "metadata": {},
   "source": [
    "#  Assignment 002"
   ]
  },
  {
   "cell_type": "code",
   "execution_count": 1,
   "metadata": {},
   "outputs": [
    {
     "name": "stdout",
     "output_type": "stream",
     "text": [
      "1.61\n",
      "3.22\n",
      "19.31\n",
      "160.93\n",
      "You have entered incorrect datatype\n"
     ]
    }
   ],
   "source": [
    "# 1. Write a Python program to convert kilometers to miles?\n",
    "def kiloToMile(kilo):\n",
    "    conversion_rate = 1.60934\n",
    "    try :\n",
    "        miles = int(kilo) * conversion_rate\n",
    "    except Exception as e :\n",
    "        return 'You have entered incorrect datatype'\n",
    "    return round(miles, 2)\n",
    "    \n",
    "print(kiloToMile(1))\n",
    "print(kiloToMile(2))\n",
    "print(kiloToMile(12))\n",
    "print(kiloToMile(100))\n",
    "print(kiloToMile('a'))"
   ]
  },
  {
   "cell_type": "code",
   "execution_count": 2,
   "metadata": {},
   "outputs": [
    {
     "name": "stdout",
     "output_type": "stream",
     "text": [
      "32.0\n",
      "104.0\n",
      "212.0\n",
      "80.6\n"
     ]
    }
   ],
   "source": [
    "# 2. Write a Python program to convert Celsius to Fahrenheit?\n",
    "def celTofahrenheit(celsius):\n",
    "    conversion_rate = 1.8\n",
    "    try :\n",
    "        fahrenheit = int(celsius) * conversion_rate + 32\n",
    "    except Exception as e :\n",
    "        return 'You have entered incorrect datatype'\n",
    "    return round(fahrenheit, 2)\n",
    "\n",
    "print(celTofahrenheit(0))\n",
    "print(celTofahrenheit(40))\n",
    "print(celTofahrenheit(100))\n",
    "print(celTofahrenheit('27'))"
   ]
  },
  {
   "cell_type": "code",
   "execution_count": 3,
   "metadata": {
    "scrolled": true
   },
   "outputs": [
    {
     "name": "stdout",
     "output_type": "stream",
     "text": [
      "                                  2022\n",
      "\n",
      "      January                   February                   March\n",
      "Mo Tu We Th Fr Sa Su      Mo Tu We Th Fr Sa Su      Mo Tu We Th Fr Sa Su\n",
      "                1  2          1  2  3  4  5  6          1  2  3  4  5  6\n",
      " 3  4  5  6  7  8  9       7  8  9 10 11 12 13       7  8  9 10 11 12 13\n",
      "10 11 12 13 14 15 16      14 15 16 17 18 19 20      14 15 16 17 18 19 20\n",
      "17 18 19 20 21 22 23      21 22 23 24 25 26 27      21 22 23 24 25 26 27\n",
      "24 25 26 27 28 29 30      28                        28 29 30 31\n",
      "31\n",
      "\n",
      "       April                      May                       June\n",
      "Mo Tu We Th Fr Sa Su      Mo Tu We Th Fr Sa Su      Mo Tu We Th Fr Sa Su\n",
      "             1  2  3                         1             1  2  3  4  5\n",
      " 4  5  6  7  8  9 10       2  3  4  5  6  7  8       6  7  8  9 10 11 12\n",
      "11 12 13 14 15 16 17       9 10 11 12 13 14 15      13 14 15 16 17 18 19\n",
      "18 19 20 21 22 23 24      16 17 18 19 20 21 22      20 21 22 23 24 25 26\n",
      "25 26 27 28 29 30         23 24 25 26 27 28 29      27 28 29 30\n",
      "                          30 31\n",
      "\n",
      "        July                     August                  September\n",
      "Mo Tu We Th Fr Sa Su      Mo Tu We Th Fr Sa Su      Mo Tu We Th Fr Sa Su\n",
      "             1  2  3       1  2  3  4  5  6  7                1  2  3  4\n",
      " 4  5  6  7  8  9 10       8  9 10 11 12 13 14       5  6  7  8  9 10 11\n",
      "11 12 13 14 15 16 17      15 16 17 18 19 20 21      12 13 14 15 16 17 18\n",
      "18 19 20 21 22 23 24      22 23 24 25 26 27 28      19 20 21 22 23 24 25\n",
      "25 26 27 28 29 30 31      29 30 31                  26 27 28 29 30\n",
      "\n",
      "      October                   November                  December\n",
      "Mo Tu We Th Fr Sa Su      Mo Tu We Th Fr Sa Su      Mo Tu We Th Fr Sa Su\n",
      "                1  2          1  2  3  4  5  6                1  2  3  4\n",
      " 3  4  5  6  7  8  9       7  8  9 10 11 12 13       5  6  7  8  9 10 11\n",
      "10 11 12 13 14 15 16      14 15 16 17 18 19 20      12 13 14 15 16 17 18\n",
      "17 18 19 20 21 22 23      21 22 23 24 25 26 27      19 20 21 22 23 24 25\n",
      "24 25 26 27 28 29 30      28 29 30                  26 27 28 29 30 31\n",
      "31\n",
      "\n"
     ]
    }
   ],
   "source": [
    "#03. Write a Python program to display calendar?\n",
    "def cal(year):\n",
    "    import calendar\n",
    "    return calendar.calendar(year)\n",
    "\n",
    "print(cal(2022))"
   ]
  },
  {
   "cell_type": "code",
   "execution_count": 4,
   "metadata": {},
   "outputs": [
    {
     "name": "stdout",
     "output_type": "stream",
     "text": [
      "-2.0\n",
      "(-2.42, -18.58)\n",
      "((-2+1.415j), (-2-1.415j))\n"
     ]
    }
   ],
   "source": [
    "# 4. Write a Python program to solve quadratic equation?\n",
    "\n",
    "def quadsolver(a,b,c):\n",
    "    discriminant = b**2 - 4*a*c\n",
    "    disroot = round(abs(discriminant ** 0.5) , 2)\n",
    "    if discriminant == 0 :\n",
    "        root1 = (-b + disroot ) /2 * a \n",
    "        \n",
    "        # here root1 will be equal to the root2 as determinant is zero\n",
    "        # ie it is a perfect square\n",
    "        return root1 \n",
    "    \n",
    "    \n",
    "    elif discriminant > 0 :\n",
    "        root1 = (-b + disroot ) /2 * a \n",
    "        root2 = (-b - disroot ) /2 * a\n",
    "        return root1,root2\n",
    "        \n",
    "    else :\n",
    "        root1 = (-b + 1j*abs(disroot) )  /2 * a \n",
    "        root2 = (-b - 1j*abs(disroot) ) /2 * a\n",
    "        return root1,root2\n",
    "    \n",
    "    \n",
    "print(quadsolver(1,4,4))\n",
    "print(quadsolver(1,21,45))\n",
    "print(quadsolver(1,4,6))"
   ]
  },
  {
   "cell_type": "code",
   "execution_count": 5,
   "metadata": {},
   "outputs": [
    {
     "name": "stdout",
     "output_type": "stream",
     "text": [
      "(3, 2)\n",
      "(6, 5)\n"
     ]
    }
   ],
   "source": [
    "# 5. Write a Python program to swap two variables without temp variable?\n",
    "\n",
    "def swapper(a,b):\n",
    "    a = a+b\n",
    "    b = a-b\n",
    "    a = a-b\n",
    "    return a , b\n",
    "\n",
    "print(swapper(2,3))\n",
    "print(swapper(5,6))"
   ]
  }
 ],
 "metadata": {
  "kernelspec": {
   "display_name": "Python 3",
   "language": "python",
   "name": "python3"
  },
  "language_info": {
   "codemirror_mode": {
    "name": "ipython",
    "version": 3
   },
   "file_extension": ".py",
   "mimetype": "text/x-python",
   "name": "python",
   "nbconvert_exporter": "python",
   "pygments_lexer": "ipython3",
   "version": "3.8.5"
  }
 },
 "nbformat": 4,
 "nbformat_minor": 4
}
