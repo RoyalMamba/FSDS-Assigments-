{
 "cells": [
  {
   "cell_type": "markdown",
   "metadata": {},
   "source": [
    "# ASSIGNMENT 2\n"
   ]
  },
  {
   "cell_type": "raw",
   "metadata": {},
   "source": [
    "1.What are the two values of the Boolean data type? How do you write them?\n",
    "ANSWER : The two different values of boolean type are True and False \n",
    "         They can be written to check any condition or returned as a value \n",
    "         We write them as True with T capital and False with F captial \n",
    "        \n",
    "         "
   ]
  },
  {
   "cell_type": "raw",
   "metadata": {},
   "source": [
    "2. What are the three different types of Boolean operators?\n",
    "ANSWER : The three different types of boolean operators are AND , OR , NOT  \n",
    "    "
   ]
  },
  {
   "cell_type": "raw",
   "metadata": {},
   "source": [
    "3. Make a list of each Boolean operator&#39;s truth tables (i.e. every possible combination of Boolean\n",
    "values for the operator and what it evaluate ).\n",
    "\n",
    "ANSWER : Combinations used = [TT, TF , FT , FF ]\n",
    "         Truth table for AND = [ 1, 0 , 0 , 0 ]\n",
    "         Truth table for OR = [ 1 , 1, 1, 0 ] \n",
    "         \n",
    "         Combinations used = [T , F ]\n",
    "         Truth table for NOT = [ F , T]"
   ]
  },
  {
   "cell_type": "raw",
   "metadata": {},
   "source": [
    "4. What are the values of the following expressions?\n",
    "    (5 & 4) and (3 == 5)    \n",
    "    \n",
    "    not (5 & 4)\n",
    "    \n",
    "    (5 & 4) or (3 == 5)\n",
    "    \n",
    "    not ((5 & 4) or (3 == 5))\n",
    "    \n",
    "    (True and True) and (True == False)\n",
    "    \n",
    "    (not False) or (not True)\n",
    "\n",
    "\n",
    "ANSWER : False \n",
    "         False\n",
    "         True \n",
    "         False \n",
    "         False\n",
    "         True"
   ]
  },
  {
   "cell_type": "raw",
   "metadata": {},
   "source": [
    "5. What are the six comparison operators?\n",
    "\n",
    "ANSWER : THE SIX COMPARISON OPERATORS ARE \n",
    "         =  (EQUAL TO )\n",
    "         != (NOT EQUAL TO )\n",
    "         >  (GREATER THAN) \n",
    "         <  (LESS THAN )\n",
    "         >= (GREATER THAN OR EQUAL TO )\n",
    "         <= (LESS THAN  OR EQUAL TO )\n"
   ]
  },
  {
   "cell_type": "raw",
   "metadata": {},
   "source": [
    "6. How do you tell the difference between the equal to and assignment operators?Describe a\n",
    "condition and when you would use one.\n",
    "\n",
    "ANSWER : For assigining a particular value we use EQUAL TO (=) ONE TIME \n",
    "        EG:  x = 5\n",
    "                \n",
    "         For comparison we use DOUBLE EQUAL TO (==) \n",
    "        EG: if x == 5 : \n",
    "                then(condition)\n",
    "        \n",
    "     \n",
    "                \n",
    "                \n",
    "                "
   ]
  },
  {
   "cell_type": "code",
   "execution_count": 1,
   "metadata": {},
   "outputs": [
    {
     "name": "stdout",
     "output_type": "stream",
     "text": [
      "ham\n",
      "spam\n",
      "spam\n"
     ]
    }
   ],
   "source": [
    "# 7. Identify the three blocks in this code:\n",
    "spam = 0\n",
    "# if spam == 10:\n",
    "# print('eggs')\n",
    "# if spam > 5:\n",
    "# print('bacon')\n",
    "# else:\n",
    "# print('ham')\n",
    "# print('spam')\n",
    "# print('spam')\n",
    "\n",
    "\n",
    "# ANSWER : The colon gives the the start of the block which starts with indentation\n",
    "if spam == 10:     #THIS IS THE FIRST BLOCK \n",
    "    print('eggs')\n",
    "    \n",
    "if spam > 5:       #THIS IS THE SECOND BLOCK\n",
    "    print('bacon')\n",
    "else:              #THIS IS THE THIRD BLOCK\n",
    "    print('ham')\n",
    "    print('spam')\n",
    "    print('spam')"
   ]
  },
  {
   "cell_type": "code",
   "execution_count": 2,
   "metadata": {},
   "outputs": [
    {
     "name": "stdout",
     "output_type": "stream",
     "text": [
      "Howdy\n"
     ]
    }
   ],
   "source": [
    "# 8. Write code that prints Hello if 1 is stored in spam, prints Howdy if 2 is stored in spam, and prints\n",
    "# Greetings! if anything else is stored in spam.\n",
    "\n",
    "spam = 2\n",
    "\n",
    "if spam == 1 :\n",
    "    print('Hello')\n",
    "elif spam == 2 :\n",
    "    print('Howdy')\n",
    "else : \n",
    "    print(\"Greeting!\")"
   ]
  },
  {
   "cell_type": "raw",
   "metadata": {},
   "source": [
    "9.If your programme is stuck in an endless loop, what keys you’ll press?\n",
    "\n",
    "ANSWER : \n",
    "    CTRL + C"
   ]
  },
  {
   "cell_type": "raw",
   "metadata": {},
   "source": [
    "10. How can you tell the difference between break and continue?\n",
    "ANSWER : \n",
    "        FOR break keyword it ends the loop \n",
    "        FOR continue keyword it skips the current value of the loop and continues to the next value \n",
    "        "
   ]
  },
  {
   "cell_type": "raw",
   "metadata": {},
   "source": [
    "# 11. In a for loop, what is the difference between range(10), range(0, 10), and range(0, 10, 1)?\n",
    "ANSWER : \n",
    "    ALL of them are same in execution but different syntactically \n",
    "    range(10) here by default the the start index is 0 and step is 1 \n",
    "    range(0,10) here we have mentioned the start and stop index and the step index is by default 1 \n",
    "    range(0,10,1) here we have mentioned all the parameters ie (start, stop , step)\n"
   ]
  },
  {
   "cell_type": "code",
   "execution_count": 3,
   "metadata": {},
   "outputs": [
    {
     "name": "stdout",
     "output_type": "stream",
     "text": [
      "1\n",
      "2\n",
      "3\n",
      "4\n",
      "5\n",
      "6\n",
      "7\n",
      "8\n",
      "9\n",
      "10\n",
      "1\n",
      "2\n",
      "3\n",
      "4\n",
      "5\n",
      "6\n",
      "7\n",
      "8\n",
      "9\n",
      "10\n"
     ]
    }
   ],
   "source": [
    "# 12. Write a short program that prints the numbers 1 to 10 using a for loop. Then write an equivalent\n",
    "# program that prints the numbers 1 to 10 using a while loop.\n",
    "\n",
    "for x in range(1,11):\n",
    "    print(x)\n",
    "    \n",
    "x = 1 \n",
    "while x < 11 :\n",
    "    print(x)\n",
    "    x += 1 \n"
   ]
  },
  {
   "cell_type": "raw",
   "metadata": {},
   "source": [
    "# 13. If you had a function named bacon() inside a module named spam, how would you call it after\n",
    "# importing spam?\n",
    "\n",
    "# ANSWER : \n",
    "    \n",
    "import spam \n",
    "spam.bacon()"
   ]
  },
  {
   "cell_type": "code",
   "execution_count": null,
   "metadata": {},
   "outputs": [],
   "source": []
  }
 ],
 "metadata": {
  "kernelspec": {
   "display_name": "Python 3",
   "language": "python",
   "name": "python3"
  },
  "language_info": {
   "codemirror_mode": {
    "name": "ipython",
    "version": 3
   },
   "file_extension": ".py",
   "mimetype": "text/x-python",
   "name": "python",
   "nbconvert_exporter": "python",
   "pygments_lexer": "ipython3",
   "version": "3.8.5"
  }
 },
 "nbformat": 4,
 "nbformat_minor": 4
}
