{
 "cells": [
  {
   "cell_type": "markdown",
   "metadata": {},
   "source": [
    "# ASSIGNMENT 1"
   ]
  },
  {
   "cell_type": "raw",
   "metadata": {},
   "source": [
    "1. In the below elements which of them are values or an expression? eg:- values can be\n",
    "integer or string and expressions will be mathematical operators.\n",
    "*       - OPERATOR \n",
    "'hello' - VALUE  \n",
    "-87.8   - VALUE \n",
    "-       - OPERATOR \n",
    "/       - OPERATOR\n",
    "+       - OPERATOR \n",
    "6       - VALUE "
   ]
  },
  {
   "cell_type": "raw",
   "metadata": {},
   "source": [
    "2. What is the difference between string and variable?\n",
    "ANSWER : A string is the ordered collection of the items whereas A variable is a location where we store all\n",
    "         data types \n",
    "         A variable can contain a string data type "
   ]
  },
  {
   "cell_type": "raw",
   "metadata": {},
   "source": [
    "3. Describe three different data types.\n",
    "ANSWER : The different data types are namely string , integer , float ,  complex number , list , tuple , dict , set etc \n",
    "         String : it is nothing but an ordered collection of the items \n",
    "         \n",
    "         Integer: an Integer is a data type which contains a number , part of numeric data type \n",
    "         \n",
    "         Float : In this data type we can represent large numbers with the decimals , it is also numeric data type\n",
    "         \n",
    "         Complex number : This is used to represent complex numbers where the complex part is represented by the letter j \n",
    "                          this is also a part of Numeric data type \n",
    "                          \n",
    "         List : It is a data structure which is an ordered collection data types \n",
    "         \n",
    "         Set : It is an unordered collection of the unique elements \n",
    "         \n",
    "         Tuple : It is similar to list but it is immutable ie the data cannot be modified \n",
    "         \n",
    "         Dict : It contains the key value-pair , this too is unordered and does not contain any index but can be \n",
    "                be found with the help of it's key. \n",
    "                Keys are meant to be unique \n",
    "         "
   ]
  },
  {
   "cell_type": "raw",
   "metadata": {},
   "source": [
    "4. What is an expression made up of? What do all expressions do?\n",
    "ANSWER : An expression is made up to the values ie they can be assigned to a variable or they will be perform certain \n",
    "         operations with the help of the operators \n",
    "         An expression must contain an operator ie = , + , - , / , < , > , * etc \n",
    "         It should also have an operand which can be either a varaible , string or numeric etc \n",
    " \n",
    "         "
   ]
  },
  {
   "cell_type": "raw",
   "metadata": {},
   "source": [
    "5. This assignment statements, like spam = 10. What is the difference between an\n",
    "expression and a statement?\n",
    "ANSWER : An expression is nothing but a set of operands and operation returning us a value whereas an assigement is assign              value 10  the spam"
   ]
  },
  {
   "cell_type": "raw",
   "metadata": {},
   "source": [
    "6. After running the following code, what does the variable bacon contain?\n",
    "bacon = 22\n",
    "bacon + 1\n",
    "\n",
    "ANSWER : Here the variable bacon contains the same value as before ie 22 because bacon + 1 is and operation executed by our              program but not stored \n",
    "         If we want to update the value the following operation must be performed bacon+= 1 \n",
    "        "
   ]
  },
  {
   "cell_type": "raw",
   "metadata": {},
   "source": [
    "7. What should the values of the following two terms be?\n",
    "    'spam' + 'spamspam'\n",
    "    'spam'*3\n",
    "    \n",
    "ANSWER : Both of the value will return spamspamspam as the output "
   ]
  },
  {
   "cell_type": "raw",
   "metadata": {},
   "source": [
    "8. Why is eggs a valid variable name while 100 is invalid?\n",
    "ANSWER : In python , a variable can start with with a letter or underscore ie _ , but it cannot start with a number but \n",
    "         can contain a number in betweeen , a varaible name cannot contain any special character except underscore\n",
    "         ie they can be alpha- numeric and can contain underscores \n",
    "         They are also case sensitive ie Eggs and eggs or EEGs are all different variables \n",
    "         Hence, 100 is invalid as it starts with a number.\n",
    "         "
   ]
  },
  {
   "cell_type": "raw",
   "metadata": {},
   "source": [
    "9. What three functions can be used to get the integer, floating-point number, or string\n",
    "version of a value?\n",
    "\n",
    "ANSWER : A STRING VALUE CAN BE CONVERTED INTO INTEGER AND FLOAT VALUE IF IT IS NUMERIC \n",
    "         TO DO THAT WE USE int() function or float() function\n",
    "         Whereas to convert any data type into string we can use str() function "
   ]
  },
  {
   "cell_type": "raw",
   "metadata": {},
   "source": [
    "10. Why does this expression cause an error? How can you fix it?\n",
    "'I have eaten' + 99 + 'burritos.'\n",
    "\n",
    "ANSWER : Here we have the two different data types ie the string and the integer hence we cannot perform this operation \n",
    "         We will need to typecast 99 as the string to add string to a string "
   ]
  }
 ],
 "metadata": {
  "kernelspec": {
   "display_name": "Python 3",
   "language": "python",
   "name": "python3"
  },
  "language_info": {
   "codemirror_mode": {
    "name": "ipython",
    "version": 3
   },
   "file_extension": ".py",
   "mimetype": "text/x-python",
   "name": "python",
   "nbconvert_exporter": "python",
   "pygments_lexer": "ipython3",
   "version": "3.8.5"
  }
 },
 "nbformat": 4,
 "nbformat_minor": 4
}
